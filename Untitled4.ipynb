{
  "nbformat": 4,
  "nbformat_minor": 0,
  "metadata": {
    "colab": {
      "provenance": [],
      "authorship_tag": "ABX9TyOeuv57u/9yX+J+Ae9zGGyH",
      "include_colab_link": true
    },
    "kernelspec": {
      "name": "python3",
      "display_name": "Python 3"
    },
    "language_info": {
      "name": "python"
    }
  },
  "cells": [
    {
      "cell_type": "markdown",
      "metadata": {
        "id": "view-in-github",
        "colab_type": "text"
      },
      "source": [
        "<a href=\"https://colab.research.google.com/github/aakansha1711/weather-modelling/blob/main/Untitled4.ipynb\" target=\"_parent\"><img src=\"https://colab.research.google.com/assets/colab-badge.svg\" alt=\"Open In Colab\"/></a>"
      ]
    },
    {
      "cell_type": "code",
      "source": [
        "def predict_temperature(time):\n",
        "    a = 0.1  # Coefficient for time^2\n",
        "    b = 0.5  # Coefficient for time\n",
        "    c = 10   # Constant term\n",
        "\n",
        "    temperature = a * (time ** 2) + b * time + c\n",
        "    return temperature\n",
        "\n",
        "# Test the function with a specific time\n",
        "input_time = 5  # Input time in hours\n",
        "predicted_temperature = predict_temperature(input_time)\n",
        "print(f\"Predicted temperature after {input_time} hours: {predicted_temperature}°C\")"
      ],
      "metadata": {
        "colab": {
          "base_uri": "https://localhost:8080/"
        },
        "id": "h-zt6wMqdfX3",
        "outputId": "9dcf6d2a-3e3a-460b-bdf2-edc7e9d268ef"
      },
      "execution_count": null,
      "outputs": [
        {
          "output_type": "stream",
          "name": "stdout",
          "text": [
            "Predicted temperature after 5 hours: 15.0°C\n"
          ]
        }
      ]
    },
    {
      "cell_type": "code",
      "source": [
        "# Quadratic equation: temperature = a * time^2 + b * time + c\n",
        "\n",
        "def predict_temperature():\n",
        "    try:\n",
        "        a = float(input(\"Enter the coefficient for time^2 (a): \"))\n",
        "        b = float(input(\"Enter the coefficient for time (b): \"))\n",
        "        c = float(input(\"Enter the constant term (c): \"))\n",
        "\n",
        "        input_time = float(input(\"Enter time in hours: \"))\n",
        "\n",
        "        temperature = a * (input_time ** 2) + b * input_time + c\n",
        "        print(f\"Predicted temperature: {temperature}°C\")\n",
        "    except ValueError:\n",
        "        print(\"Please enter valid numerical values.\")\n",
        "\n",
        "predict_temperature()"
      ],
      "metadata": {
        "colab": {
          "base_uri": "https://localhost:8080/"
        },
        "id": "dO78RSWVf8JP",
        "outputId": "e5b9ccbc-6dc2-485e-887c-1e4efe84143f"
      },
      "execution_count": null,
      "outputs": [
        {
          "output_type": "stream",
          "name": "stdout",
          "text": [
            "Enter the coefficient for time^2 (a): 1\n",
            "Enter the coefficient for time (b): 2\n",
            "Enter the constant term (c): 5\n",
            "Enter time in hours: 6\n",
            "Predicted temperature: 53.0°C\n"
          ]
        }
      ]
    },
    {
      "cell_type": "code",
      "source": [
        "# Quadratic equation: temperature = a * time^2 + b * time + c\n",
        "\n",
        "def predict_temperature_multiple_sets(time_values):\n",
        "    a = 0.1  # Coefficient for time^2\n",
        "    b = 0.5  # Coefficient for time\n",
        "    c = 10   # Constant term\n",
        "\n",
        "    print(\"Predicted temperatures for multiple time values:\")\n",
        "    for input_time in time_values:\n",
        "        temperature = a * (input_time ** 2) + b * input_time + c\n",
        "        print(f\"Time: {input_time} hours, Predicted temperature: {temperature}°C\")\n",
        "\n",
        "# Example multiple sets of input time values (you can modify this list accordingly)\n",
        "multiple_time_values = [3, 6, 9, 12, 15]\n",
        "\n",
        "# Predict temperature for multiple sets of input values\n",
        "predict_temperature_multiple_sets(multiple_time_values)"
      ],
      "metadata": {
        "colab": {
          "base_uri": "https://localhost:8080/"
        },
        "id": "8mFfnp3Df_e3",
        "outputId": "972085a0-b9ec-4438-ed1d-ca8b6be91f40"
      },
      "execution_count": null,
      "outputs": [
        {
          "output_type": "stream",
          "name": "stdout",
          "text": [
            "Predicted temperatures for multiple time values:\n",
            "Time: 3 hours, Predicted temperature: 12.4°C\n",
            "Time: 6 hours, Predicted temperature: 16.6°C\n",
            "Time: 9 hours, Predicted temperature: 22.6°C\n",
            "Time: 12 hours, Predicted temperature: 30.4°C\n",
            "Time: 15 hours, Predicted temperature: 40.0°C\n"
          ]
        }
      ]
    },
    {
      "cell_type": "code",
      "source": [
        "# Quadratic equation: temperature = a * time^2 + b * time + c\n",
        "\n",
        "def predict_temperature_from_file(filename):\n",
        "    try:\n",
        "        with open(filename, 'r') as file:\n",
        "            coefficients = file.readline().strip().split()  # Read coefficients from the first line\n",
        "            a, b, c = map(float, coefficients)  # Convert coefficients to floats\n",
        "\n",
        "            print(f\"Coefficients: a = {a}, b = {b}, c = {c}\")\n",
        "\n",
        "            print(\"Predicted temperatures:\")\n",
        "            for line in file:\n",
        "                time = float(line.strip())\n",
        "                temperature = a * (time ** 2) + b * time + c\n",
        "                print(f\"Time: {time} hours, Predicted temperature: {temperature}°C\")\n",
        "    except FileNotFoundError:\n",
        "        print(f\"File '{filename}' not found.\")\n",
        "    except ValueError:\n",
        "        print(\"Invalid data in the file.\")\n",
        "\n",
        "# Read data from the input file and predict temperatures\n",
        "predict_temperature_from_file('input_data.txt')\n",
        "\n",
        "#inputs\n",
        "#0.1 0.5 10\n",
        "#3\n",
        "#6\n",
        "#9"
      ],
      "metadata": {
        "colab": {
          "base_uri": "https://localhost:8080/"
        },
        "id": "f4Oh1HG6hd6i",
        "outputId": "27386e26-b26a-4e02-f7c3-6013ea3f24ee"
      },
      "execution_count": null,
      "outputs": [
        {
          "output_type": "stream",
          "name": "stdout",
          "text": [
            "Coefficients: a = 0.1, b = 0.5, c = 10.0\n",
            "Predicted temperatures:\n",
            "Time: 3.0 hours, Predicted temperature: 12.4°C\n",
            "Time: 6.0 hours, Predicted temperature: 16.6°C\n",
            "Time: 9.0 hours, Predicted temperature: 22.6°C\n"
          ]
        }
      ]
    },
    {
      "cell_type": "code",
      "source": [
        "# Quadratic equation: temperature = a * time^2 + b * time + c\n",
        "\n",
        "def predict_temperature_single_set():\n",
        "    a = 0.1  # Coefficient for time^2\n",
        "    b = 0.5  # Coefficient for time\n",
        "    c = 10   # Constant term\n",
        "\n",
        "    input_time = 5  # Single input time in hours (example)\n",
        "\n",
        "    temperature = a * (input_time ** 2) + b * input_time + c\n",
        "    print(f\"Predicted temperature after {input_time} hours: {temperature}°C\")\n",
        "\n",
        "# Predict temperature for a single set of input values\n",
        "predict_temperature_single_set()"
      ],
      "metadata": {
        "colab": {
          "base_uri": "https://localhost:8080/"
        },
        "id": "HK0g8PDChpvC",
        "outputId": "acfaeee5-2641-433e-9af9-8983fceba90b"
      },
      "execution_count": null,
      "outputs": [
        {
          "output_type": "stream",
          "name": "stdout",
          "text": [
            "Predicted temperature after 5 hours: 15.0°C\n"
          ]
        }
      ]
    },
    {
      "cell_type": "code",
      "source": [],
      "metadata": {
        "id": "k4YBVwIsihPt"
      },
      "execution_count": null,
      "outputs": []
    }
  ]
}